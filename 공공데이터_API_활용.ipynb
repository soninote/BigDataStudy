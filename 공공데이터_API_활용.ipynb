{
  "nbformat": 4,
  "nbformat_minor": 0,
  "metadata": {
    "colab": {
      "provenance": [],
      "collapsed_sections": [],
      "authorship_tag": "ABX9TyOqVnFwAn5fv6U7pgxV5SU6",
      "include_colab_link": true
    },
    "kernelspec": {
      "name": "python3",
      "display_name": "Python 3"
    },
    "language_info": {
      "name": "python"
    }
  },
  "cells": [
    {
      "cell_type": "markdown",
      "metadata": {
        "id": "view-in-github",
        "colab_type": "text"
      },
      "source": [
        "<a href=\"https://colab.research.google.com/github/soninote/BigDataStudy/blob/master/%EA%B3%B5%EA%B3%B5%EB%8D%B0%EC%9D%B4%ED%84%B0_API_%ED%99%9C%EC%9A%A9.ipynb\" target=\"_parent\"><img src=\"https://colab.research.google.com/assets/colab-badge.svg\" alt=\"Open In Colab\"/></a>"
      ]
    },
    {
      "cell_type": "markdown",
      "source": [
        "# 1. 출입국 통계 분석"
      ],
      "metadata": {
        "id": "55Mav8xFekqA"
      }
    },
    {
      "cell_type": "markdown",
      "source": [
        "##1.1  2021년 5월 중국인 입국자 수 알기"
      ],
      "metadata": {
        "id": "whE-16Z4esiO"
      }
    },
    {
      "cell_type": "code",
      "source": [
        "import requests as rq\n",
        "from bs4 import BeautifulSoup as bs\n",
        "import pandas as pd\n",
        "\n",
        "url = 'http://openapi.tour.go.kr/openapi/service/EdrcntTourismStatsService/getEdrcntTourismStatsList?'\n",
        "user_key = 'serviceKey=YourKey'\n",
        "params = '&YM=201201&NAT_CD=112&ED_CD=E'\n",
        "\n",
        "urlAPI = url + user_key + params\n",
        "\n",
        "resp = rq.get(urlAPI)\n",
        "soup = bs(resp.content, 'html.parser')\n",
        "#number = int(soup.select_one('num').text)\n",
        "\n",
        "number"
      ],
      "metadata": {
        "id": "eB1gXdiZey8-"
      },
      "execution_count": null,
      "outputs": []
    },
    {
      "cell_type": "markdown",
      "source": [
        "##1.2  2018년부터 2021년 까지 매년 3월, 6월 및 9월의 입국자수 (중국, 일본, 미국)"
      ],
      "metadata": {
        "id": "Y7NlXKn9he9m"
      }
    },
    {
      "cell_type": "code",
      "source": [
        "from google.colab import drive\n",
        "drive.mount('/gdrive', force_remount = True)"
      ],
      "metadata": {
        "colab": {
          "base_uri": "https://localhost:8080/"
        },
        "id": "fa6FoK11lycu",
        "outputId": "2fcf8273-ec81-4379-b137-a18274291c58"
      },
      "execution_count": 9,
      "outputs": [
        {
          "output_type": "stream",
          "name": "stdout",
          "text": [
            "Mounted at /gdrive\n"
          ]
        }
      ]
    },
    {
      "cell_type": "code",
      "source": [
        "import requests as rq\n",
        "from bs4 import BeautifulSoup as bs\n",
        "import pandas as pd\n",
        "\n",
        "url = 'http://openapi.tour.go.kr/openapi/service/EdrcntTourismStatsService/getEdrcntTourismStatsList?'\n",
        "user_key = 'serviceKey=YourKey'\n",
        "\n",
        "yearMonth = ['201703', '201706','201709',\n",
        "             '201803', '201806','201809',\n",
        "             '201903', '201906','201909',\n",
        "             '202003', '202006','202009',\n",
        "             '202103', '202106','202109']\n",
        "\n",
        "nationCode = ['112','130','275']\n",
        "\n",
        "def getNumberArrivals(natCode):\n",
        "  number = []\n",
        "  for ym in yearMonth:\n",
        "      params = '&YM='+ym+'&NAT_CD='+natCode+'&ED_CD=E'\n",
        "      urlAPI = url + user_key + params\n",
        "      resp = rq.get(urlAPI)\n",
        "      soup = bs(resp.content, 'html.parser')\n",
        "      num = soup.select_one('num').text\n",
        "      number.append(int(num))\n",
        "  return number\n",
        "\n",
        "enterence = []\n",
        "for i in range(len(nationCode)):\n",
        "  number = getNumberArrivals(nationCode[i])\n",
        "  enterence.append(number)\n",
        "  print(number)\n",
        "\n",
        "df = pd.DataFrame({'중국':enterence[0], '일본':enterence[1], '미국':enterence[2]},\n",
        "                  index = yearMonth)\n",
        "\n",
        "df.to_excel('/gdrive/MyDrive/미중일입국자수현황.xlsx')"
      ],
      "metadata": {
        "colab": {
          "base_uri": "https://localhost:8080/"
        },
        "id": "OA9uB_aehWJ_",
        "outputId": "f6073d36-32e9-48ba-c6cf-dd3228689262"
      },
      "execution_count": 11,
      "outputs": [
        {
          "output_type": "stream",
          "name": "stdout",
          "text": [
            "[360782, 254930, 318682, 403413, 379891, 434595, 487623, 475007, 541350, 16595, 5051, 15307, 18980, 12942, 19144]\n",
            "[274478, 167785, 219968, 294476, 235293, 247847, 375119, 282476, 251119, 8347, 498, 794, 949, 875, 1142]\n",
            "[72477, 85955, 70933, 80079, 94742, 78826, 84275, 105398, 90819, 10570, 9717, 12426, 12321, 18159, 19227]\n"
          ]
        }
      ]
    },
    {
      "cell_type": "markdown",
      "source": [
        "# 2.연도별 전국 산불 발생 통계 분석"
      ],
      "metadata": {
        "id": "G6JlGM1_r-UB"
      }
    },
    {
      "cell_type": "code",
      "source": [
        "!sudo apt-get install -y fonts-nanum\n",
        "!sudo fc-cache -fv\n",
        "!rm ~/.cache/matplotlib -rf"
      ],
      "metadata": {
        "colab": {
          "base_uri": "https://localhost:8080/"
        },
        "id": "_y5AfySy5dM8",
        "outputId": "ae6ff8a2-ef78-4f6a-a944-b7fe3343bdbe"
      },
      "execution_count": 2,
      "outputs": [
        {
          "output_type": "stream",
          "name": "stdout",
          "text": [
            "Reading package lists... Done\n",
            "Building dependency tree       \n",
            "Reading state information... Done\n",
            "The following package was automatically installed and is no longer required:\n",
            "  libnvidia-common-460\n",
            "Use 'sudo apt autoremove' to remove it.\n",
            "The following NEW packages will be installed:\n",
            "  fonts-nanum\n",
            "0 upgraded, 1 newly installed, 0 to remove and 20 not upgraded.\n",
            "Need to get 9,604 kB of archives.\n",
            "After this operation, 29.5 MB of additional disk space will be used.\n",
            "Get:1 http://archive.ubuntu.com/ubuntu bionic/universe amd64 fonts-nanum all 20170925-1 [9,604 kB]\n",
            "Fetched 9,604 kB in 3s (3,760 kB/s)\n",
            "debconf: unable to initialize frontend: Dialog\n",
            "debconf: (No usable dialog-like program is installed, so the dialog based frontend cannot be used. at /usr/share/perl5/Debconf/FrontEnd/Dialog.pm line 76, <> line 1.)\n",
            "debconf: falling back to frontend: Readline\n",
            "debconf: unable to initialize frontend: Readline\n",
            "debconf: (This frontend requires a controlling tty.)\n",
            "debconf: falling back to frontend: Teletype\n",
            "dpkg-preconfigure: unable to re-open stdin: \n",
            "Selecting previously unselected package fonts-nanum.\n",
            "(Reading database ... 155569 files and directories currently installed.)\n",
            "Preparing to unpack .../fonts-nanum_20170925-1_all.deb ...\n",
            "Unpacking fonts-nanum (20170925-1) ...\n",
            "Setting up fonts-nanum (20170925-1) ...\n",
            "Processing triggers for fontconfig (2.12.6-0ubuntu2) ...\n",
            "/usr/share/fonts: caching, new cache contents: 0 fonts, 1 dirs\n",
            "/usr/share/fonts/truetype: caching, new cache contents: 0 fonts, 3 dirs\n",
            "/usr/share/fonts/truetype/humor-sans: caching, new cache contents: 1 fonts, 0 dirs\n",
            "/usr/share/fonts/truetype/liberation: caching, new cache contents: 16 fonts, 0 dirs\n",
            "/usr/share/fonts/truetype/nanum: caching, new cache contents: 10 fonts, 0 dirs\n",
            "/usr/local/share/fonts: caching, new cache contents: 0 fonts, 0 dirs\n",
            "/root/.local/share/fonts: skipping, no such directory\n",
            "/root/.fonts: skipping, no such directory\n",
            "/var/cache/fontconfig: cleaning cache directory\n",
            "/root/.cache/fontconfig: not cleaning non-existent cache directory\n",
            "/root/.fontconfig: not cleaning non-existent cache directory\n",
            "fc-cache: succeeded\n"
          ]
        }
      ]
    },
    {
      "cell_type": "code",
      "source": [
        "import requests as rq\n",
        "from bs4 import BeautifulSoup as bs\n",
        "import pandas as pd\n",
        "import matplotlib.pyplot as plt\n",
        "import numpy as np\n",
        "\n",
        "site = 'https://apis.data.go.kr/1400000/forestStusService/getfirestatsservice'\n",
        "user_key = '?serviceKey=YourKey'\n",
        "params = '&numOfRows=348&pageNo=1&searchStDt=20210101&searchEdDt=20211231'\n",
        "\n",
        "url = site + user_key + params\n",
        "\n",
        "# SSLCertVerificationError  verify=False 넣어줘야함\n",
        "res = rq.get(url, verify=False)\n",
        "res.content\n",
        "soup = bs(res.content, 'html.parser')\n",
        "\n",
        "sido = soup.select('locsi')\n",
        "\n",
        "sigungu = soup.select('locgungu')\n",
        "eupmyondong = soup.select('locdong')\n",
        "month = soup.select('startmonth')\n",
        "startDay = soup.select('startday')\n",
        "endDay = soup.select('endday')\n",
        "damageArea = soup.select('damagearea')\n",
        "cause = soup.select('firecause')\n",
        "\n",
        "sidoList = []\n",
        "sigunguList = []\n",
        "eupmyondongList = []\n",
        "monthList = []\n",
        "startDayList = []\n",
        "endDayList = []\n",
        "damageAreaList = []\n",
        "causeList = []\n",
        "\n",
        "for i in range(len(sido)):\n",
        "  sidoList.append(sido[i].text)\n",
        "  sigunguList.append(sigungu[i].text)\n",
        "  eupmyondongList.append(eupmyondong[i].text)\n",
        "  monthList.append(month[i].text)\n",
        "  startDayList.append(startDay[i].text)\n",
        "  endDayList.append(endDay[i].text)\n",
        "  damageAreaList.append(damageArea[i].text)\n",
        "  causeList.append(cause[i].text)\n",
        "\n",
        "df = pd.DataFrame({'월':monthList, '발생일': startDayList, '진화완료일' : endDayList, '시도':sidoList ,'시군구': sigunguList, '읍면동': eupmyondongList,'피해면적':damageAreaList, '발화원인': causeList})\n",
        "#df.to_excel('/gdrive/MyDrive/산불화재발생현황.xlsx')\n",
        "\n",
        "\n",
        "\n",
        "wideLoc = list(set(sidoList))\n",
        "locCount = [0 for i in range(len(wideLoc))]\n",
        "for i in range(len(wideLoc)):\n",
        "  locCount[i] = sidoList.count(wideLoc[i])\n",
        "print(wideLoc)\n",
        "print(locCount)\n",
        "\n",
        "plt.rcParams['font.family'] = 'NanumGothic'\n",
        "x = np.arange(len(wideLoc))\n",
        "\n",
        "plt.title('2021년 전국 산불 발생 건수 비교')\n",
        "plt.xlabel('광역시도')\n",
        "plt.ylabel('발생건수')\n",
        "plt.bar(x,locCount)\n",
        "plt.xticks(x,wideLoc)\n",
        "\n",
        "for i in x:\n",
        "  plt.text(i-0.3, locCount[i], locCount[i])\n",
        "plt.show()"
      ],
      "metadata": {
        "colab": {
          "base_uri": "https://localhost:8080/",
          "height": 387
        },
        "id": "UgTpUg_ctlRw",
        "outputId": "67b85fce-d26e-4b79-845a-4597e2aa2f01"
      },
      "execution_count": null,
      "outputs": [
        {
          "output_type": "stream",
          "name": "stderr",
          "text": [
            "/usr/local/lib/python3.7/dist-packages/urllib3/connectionpool.py:847: InsecureRequestWarning: Unverified HTTPS request is being made. Adding certificate verification is strongly advised. See: https://urllib3.readthedocs.io/en/latest/advanced-usage.html#ssl-warnings\n",
            "  InsecureRequestWarning)\n"
          ]
        },
        {
          "output_type": "stream",
          "name": "stdout",
          "text": [
            "['부산', '광주', '전남', '인천', '경기', '경남', '강원', '대구', '대전', '전북', '충북', '경북', '서울', '충남', '울산']\n",
            "[6, 1, 33, 8, 73, 36, 48, 8, 4, 23, 8, 60, 4, 24, 11]\n"
          ]
        },
        {
          "output_type": "display_data",
          "data": {
            "text/plain": [
              "<Figure size 432x288 with 1 Axes>"
            ],
            "image/png": "[encoded data removed]"
          },
          "metadata": {
            "needs_background": "light"
          }
        }
      ]
    },
    {
      "cell_type": "code",
      "source": [
        "import requests as rq\n",
        "from bs4 import BeautifulSoup as bs\n",
        "import pandas as pd\n",
        "import matplotlib.pyplot as plt\n",
        "import numpy as np\n",
        "\n",
        "site = 'https://apis.data.go.kr/1400000/forestStusService/getfirestatsservice'\n",
        "user_key = '?serviceKey=YourKey'\n",
        "params = '&numOfRows=348&pageNo=1&searchStDt=20210101&searchEdDt=20211231'\n",
        "\n",
        "url = site + user_key + params\n",
        "\n",
        "# SSLCertVerificationError  verify=False 넣어줘야함\n",
        "res = rq.get(url, verify=False)\n",
        "res.content\n",
        "soup = bs(res.content, 'html.parser')\n",
        "\n",
        "sido = soup.select('locsi')\n",
        "\n",
        "sigungu = soup.select('locgungu')\n",
        "eupmyondong = soup.select('locdong')\n",
        "month = soup.select('startmonth')\n",
        "startDay = soup.select('startday')\n",
        "endDay = soup.select('endday')\n",
        "damageArea = soup.select('damagearea')\n",
        "cause = soup.select('firecause')\n",
        "\n",
        "sidoList = []\n",
        "sigunguList = []\n",
        "eupmyondongList = []\n",
        "monthList = []\n",
        "startDayList = []\n",
        "endDayList = []\n",
        "damageAreaList = []\n",
        "causeList = []\n",
        "\n",
        "for i in range(len(sido)):\n",
        "  sidoList.append(sido[i].text)\n",
        "  sigunguList.append(sigungu[i].text)\n",
        "  eupmyondongList.append(eupmyondong[i].text)\n",
        "  monthList.append(month[i].text)\n",
        "  startDayList.append(startDay[i].text)\n",
        "  endDayList.append(endDay[i].text)\n",
        "  damageAreaList.append(damageArea[i].text)\n",
        "  causeList.append(cause[i].text)\n",
        "\n",
        "df = pd.DataFrame({'월':monthList, '발생일': startDayList, '진화완료일' : endDayList, '시도':sidoList ,'시군구': sigunguList, '읍면동': eupmyondongList,'피해면적':damageAreaList, '발화원인': causeList})\n",
        "#df.to_excel('/gdrive/MyDrive/산불화재발생현황.xlsx')\n",
        "\n",
        "\n",
        "\n",
        "wideCause = list(set(causeList))\n",
        "locCount = [0 for i in range(len(wideCause))]\n",
        "for i in range(len(wideCause)):\n",
        "  locCount[i] = causeList.count(wideCause[i])\n",
        "print(wideCause)\n",
        "print(locCount)\n",
        "\n",
        "plt.rcParams['font.family'] = 'NanumGothic'\n",
        "x = np.arange(len(wideCause))\n",
        "\n",
        "plt.title('2021년 전국 화재원인 발생 건수 비교')\n",
        "plt.xlabel('발생건수')\n",
        "plt.ylabel('원인')\n",
        "plt.barh(x,locCount)\n",
        "plt.yticks(x, wideCause)\n",
        "\n",
        "for i in x:\n",
        "  plt.text(locCount[i], i, locCount[i])\n",
        "plt.show()"
      ],
      "metadata": {
        "colab": {
          "base_uri": "https://localhost:8080/",
          "height": 386
        },
        "id": "K93HuhcQ9kJV",
        "outputId": "4c53e8e0-b698-4647-c6b7-4801937e4a27"
      },
      "execution_count": 7,
      "outputs": [
        {
          "output_type": "stream",
          "name": "stderr",
          "text": [
            "/usr/local/lib/python3.7/dist-packages/urllib3/connectionpool.py:847: InsecureRequestWarning: Unverified HTTPS request is being made. Adding certificate verification is strongly advised. See: https://urllib3.readthedocs.io/en/latest/advanced-usage.html#ssl-warnings\n",
            "  InsecureRequestWarning)\n"
          ]
        },
        {
          "output_type": "stream",
          "name": "stdout",
          "text": [
            "['쓰레기소각', '기타', '담뱃불실화', '주택화재비화', '입산자실화']\n",
            "[28, 143, 31, 18, 127]\n"
          ]
        },
        {
          "output_type": "display_data",
          "data": {
            "text/plain": [
              "<Figure size 432x288 with 1 Axes>"
            ],
            "image/png": "[encoded data removed]"
          },
          "metadata": {
            "needs_background": "light"
          }
        }
      ]
    },
    {
      "cell_type": "code",
      "source": [],
      "metadata": {
        "id": "RjxNSFL_sG9y"
      },
      "execution_count": null,
      "outputs": []
    }
  ]
}